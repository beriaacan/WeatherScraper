{
  "nbformat": 4,
  "nbformat_minor": 0,
  "metadata": {
    "colab": {
      "provenance": [],
      "authorship_tag": "ABX9TyOBrLT3qihRBazwjCaga7SN",
      "include_colab_link": true
    },
    "kernelspec": {
      "name": "python3",
      "display_name": "Python 3"
    },
    "language_info": {
      "name": "python"
    }
  },
  "cells": [
    {
      "cell_type": "markdown",
      "metadata": {
        "id": "view-in-github",
        "colab_type": "text"
      },
      "source": [
        "<a href=\"https://colab.research.google.com/github/beriaacan/WeatherScraper/blob/main/Weather%20Scraper.ipynb\" target=\"_parent\"><img src=\"https://colab.research.google.com/assets/colab-badge.svg\" alt=\"Open In Colab\"/></a>"
      ]
    },
    {
      "cell_type": "code",
      "execution_count": null,
      "metadata": {
        "id": "y0Lyf0b4sur5"
      },
      "outputs": [],
      "source": []
    },
    {
      "cell_type": "markdown",
      "source": [
        "Amacım Antalya, İstanbul ve Ankara illerinin son 1 sene içerisindeki sıcaklık değerlerinde oluşan değişimlerini güncel olarak web sitesinden (https://openweathermap.org) çekip daha sonra normalde beklenen sıcaklık değerlerinden ne kadar farklı olduğunu gözlemlemek. \n",
        "Bu sonuçlara bakarak şehirlerin küresel ısınmaya ne kadar maruz kaldığını grafiklerle anlamak ve önlem almak adına bilgilendirmek."
      ],
      "metadata": {
        "id": "r2ZvnZx4sz4l"
      }
    },
    {
      "cell_type": "code",
      "source": [
        "import requests\n",
        "\n",
        "api_key = \"YOUR_API_KEY\"\n",
        "city = \"Antalya\"\n",
        "url = f\"http://api.openweathermap.org/data/2.5/weather?q={city}&appid={api_key}&units=metric\"\n",
        "\n",
        "response = requests.get(url)\n",
        "\n",
        "if response.status_code == 200:\n",
        "    data = response.json()\n",
        "    print(data)\n",
        "else:\n",
        "    print(\"Error:\", response.status_code)\n"
      ],
      "metadata": {
        "colab": {
          "base_uri": "https://localhost:8080/"
        },
        "id": "K9eUw1g5yL-3",
        "outputId": "6e77a83f-dca9-46e7-f915-4c386fb314be"
      },
      "execution_count": 10,
      "outputs": [
        {
          "output_type": "stream",
          "name": "stdout",
          "text": [
            "Error: 401\n"
          ]
        }
      ]
    }
  ]
}